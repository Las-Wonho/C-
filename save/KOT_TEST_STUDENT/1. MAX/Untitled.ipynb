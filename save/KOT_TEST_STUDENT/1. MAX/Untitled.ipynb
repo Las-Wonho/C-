{
 "cells": [
  {
   "cell_type": "code",
   "execution_count": 27,
   "metadata": {},
   "outputs": [],
   "source": [
    "f = open(\"./i001.input.txt\",\"r\")"
   ]
  },
  {
   "cell_type": "code",
   "execution_count": 28,
   "metadata": {},
   "outputs": [],
   "source": [
    "arr=f.readlines()\n"
   ]
  },
  {
   "cell_type": "code",
   "execution_count": 22,
   "metadata": {},
   "outputs": [],
   "source": [
    "f.close()"
   ]
  },
  {
   "cell_type": "code",
   "execution_count": 31,
   "metadata": {},
   "outputs": [
    {
     "name": "stdout",
     "output_type": "stream",
     "text": [
      "['49', '56', '40', '55', '68', '83', '56', '2', '26\\n']\n",
      "['23', '13', '49', '9', '67', '60', '49', '55', '31\\n']\n",
      "['14', '3', '24', '79', '70', '47', '12', '0', '32\\n']\n",
      "['52', '0', '71', '27', '58', '29', '4', '1', '13\\n']\n",
      "['14', '4', '51', '51', '65', '72', '51', '26', '21\\n']\n",
      "['71', '3', '41', '30', '72', '54', '84', '35', '50\\n']\n",
      "['62', '67', '55', '73', '27', '28', '25', '55', '76\\n']\n",
      "['56', '65', '50', '55', '21', '50', '2', '7', '23\\n']\n",
      "['56', '79', '49', '11', '51', '32', '81', '27', '85\\n']\n"
     ]
    }
   ],
   "source": [
    "for i in arr:\n",
    "    print(i.split(\" \"))"
   ]
  },
  {
   "cell_type": "code",
   "execution_count": null,
   "metadata": {},
   "outputs": [],
   "source": []
  }
 ],
 "metadata": {
  "kernelspec": {
   "display_name": "Python 3",
   "language": "python",
   "name": "python3"
  },
  "language_info": {
   "codemirror_mode": {
    "name": "ipython",
    "version": 3
   },
   "file_extension": ".py",
   "mimetype": "text/x-python",
   "name": "python",
   "nbconvert_exporter": "python",
   "pygments_lexer": "ipython3",
   "version": "3.6.4"
  }
 },
 "nbformat": 4,
 "nbformat_minor": 2
}
